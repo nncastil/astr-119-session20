{
 "cells": [
  {
   "cell_type": "markdown",
   "metadata": {},
   "source": [
    "# astrophysical simulation\n",
    "\n",
    "using \"density_projection.dat\" and \"energy_projection.dat\" from the session_20.tar file\n",
    "\n",
    "- contain gas density and internal energy from a slice through a cosmological simulation"
   ]
  },
  {
   "cell_type": "code",
   "execution_count": null,
   "metadata": {},
   "outputs": [],
   "source": [
    "%matplotlib inline\n",
    "import matplotlib.pyplot as plt\n",
    "import matplotlib.colors as colors\n",
    "import numpy as np"
   ]
  },
  {
   "cell_type": "markdown",
   "metadata": {},
   "source": [
    "read in density file\n",
    "\n",
    "- using numpy's fromfile() function and reshaping it into 512 x 512 with numpy's reshape()"
   ]
  },
  {
   "cell_type": "code",
   "execution_count": null,
   "metadata": {},
   "outputs": [],
   "source": [
    "fname = \"density_projection.dat\"\n",
    "d = np.fromfile(fname,dtype=np.float32)\n",
    "d = np.reshape(d,(512,512))"
   ]
  },
  {
   "cell_type": "markdown",
   "metadata": {},
   "source": [
    "read in energy file"
   ]
  },
  {
   "cell_type": "code",
   "execution_count": null,
   "metadata": {},
   "outputs": [],
   "source": [
    "fname = \"energy_projection.dat\"\n",
    "energy = np.fromfile(fname,dtype=np.float32)\n",
    "energy = np.reshape(energy,(512,512))"
   ]
  },
  {
   "cell_type": "markdown",
   "metadata": {},
   "source": [
    "plot using default color map"
   ]
  },
  {
   "cell_type": "code",
   "execution_count": null,
   "metadata": {},
   "outputs": [],
   "source": [
    "#density\n",
    "d_log = np.log10(d)\n",
    "f = plt.figure(figsize=(7,7))\n",
    "plt.imshow(d_log)"
   ]
  },
  {
   "cell_type": "code",
   "execution_count": null,
   "metadata": {},
   "outputs": [],
   "source": [
    "#energy\n",
    "e_log = np.log10(energy)\n",
    "f = plt.figure(figsize=(7,7))\n",
    "plt.imshow(e_log)"
   ]
  },
  {
   "cell_type": "markdown",
   "metadata": {},
   "source": [
    "### making a 3-color image\n",
    "\n",
    "combine the maps using HSV color space\n",
    "\n",
    "- H=[0,1] corresponds to color wheel\n",
    "\n",
    "- V=[0,1] is the vibrance of the image\n",
    "\n",
    "- S=[0,1] is the saturation (white/black to deep color)"
   ]
  },
  {
   "cell_type": "code",
   "execution_count": null,
   "metadata": {},
   "outputs": [],
   "source": [
    "#density V and S\n",
    "d_min = d_log.min()\n",
    "d_max = d_log.max()\n",
    "\n",
    "v = (d_log - d_min)/(d_max - d_min)  #field of density subtracting the minimum value, rescaled\n",
    "s = 1.0 - v                          #from 0 to 1"
   ]
  },
  {
   "cell_type": "code",
   "execution_count": null,
   "metadata": {},
   "outputs": [],
   "source": [
    "#energy H\n",
    "e_min = e_log.min()\n",
    "e_max = e_log.max()\n",
    "\n",
    "h = 0.8 - 0.2*(e_log - e_min)/(e_max - e_min)  #in low density regions it will be purple-ish\n",
    "                                               #high density regions will be blueeee"
   ]
  },
  {
   "cell_type": "markdown",
   "metadata": {},
   "source": [
    "convert HSV to RGB"
   ]
  },
  {
   "cell_type": "code",
   "execution_count": null,
   "metadata": {},
   "outputs": [],
   "source": [
    "hsv_image = np.zeros((512,512,3))\n",
    "\n",
    "hsv_image[:,:,0] = h\n",
    "hsv_image[:,:,1] = s\n",
    "hsv_image[:,:,2] = v\n",
    "\n",
    "rgb_image = colors.hsv_to_rgb(hsv_image)"
   ]
  },
  {
   "cell_type": "code",
   "execution_count": null,
   "metadata": {},
   "outputs": [],
   "source": [
    "#display image\n",
    "f = plt.figure(figsize=(7,7))\n",
    "plt.imshow(rgb_image)"
   ]
  },
  {
   "cell_type": "code",
   "execution_count": null,
   "metadata": {},
   "outputs": [],
   "source": [
    "plt.imsave(\"test.png\", rgb_image)"
   ]
  },
  {
   "cell_type": "code",
   "execution_count": null,
   "metadata": {},
   "outputs": [],
   "source": []
  }
 ],
 "metadata": {
  "kernelspec": {
   "display_name": "Python 3",
   "language": "python",
   "name": "python3"
  },
  "language_info": {
   "codemirror_mode": {
    "name": "ipython",
    "version": 3
   },
   "file_extension": ".py",
   "mimetype": "text/x-python",
   "name": "python",
   "nbconvert_exporter": "python",
   "pygments_lexer": "ipython3",
   "version": "3.6.5"
  }
 },
 "nbformat": 4,
 "nbformat_minor": 2
}
